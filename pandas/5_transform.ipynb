{
 "cells": [
  {
   "cell_type": "markdown",
   "metadata": {},
   "source": [
    "# lambda 형식\n",
    "\n",
    "* 구성: lambda 인자 : 표현식\n",
    "\n",
    "* 사용법:\n",
    "\n",
    "    ```python\n",
    "    (lambda x,y: x + y)(10, 20)\n",
    "    ```"
   ]
  },
  {
   "cell_type": "code",
   "execution_count": 7,
   "metadata": {},
   "outputs": [
    {
     "output_type": "execute_result",
     "data": {
      "text/plain": "3"
     },
     "metadata": {},
     "execution_count": 7
    }
   ],
   "source": [
    "def sum_func(func):\n",
    "    return func(1, 2) + 1\n",
    "\n",
    "sum_func(lambda x,y: x * y)\n",
    "\n",
    "# def re(a, b):\n",
    "#     return a * b\n",
    "\n",
    "# sum_func(re)"
   ]
  },
  {
   "cell_type": "markdown",
   "metadata": {},
   "source": [
    "# map"
   ]
  },
  {
   "cell_type": "code",
   "execution_count": 11,
   "metadata": {},
   "outputs": [
    {
     "output_type": "execute_result",
     "data": {
      "text/plain": "[0, 1, 4, 9, 16]"
     },
     "metadata": {},
     "execution_count": 11
    }
   ],
   "source": [
    "list(map(lambda x: x ** 2, range(5)))\n",
    "\n",
    "# def test_func(x):\n",
    "#     return x ** 2\n",
    "\n",
    "# list(map(test_func, range(5)))"
   ]
  },
  {
   "cell_type": "markdown",
   "metadata": {},
   "source": [
    "# reduce"
   ]
  },
  {
   "cell_type": "code",
   "execution_count": 33,
   "metadata": {},
   "outputs": [
    {
     "output_type": "stream",
     "name": "stdout",
     "text": "[0, 1, 2, 3]\n"
    },
    {
     "output_type": "execute_result",
     "data": {
      "text/plain": "16"
     },
     "metadata": {},
     "execution_count": 33
    }
   ],
   "source": [
    "from functools import reduce\n",
    "\n",
    "print(list(range(4)))\n",
    "reduce(lambda acc, elem: acc + elem, range(4), 10)"
   ]
  },
  {
   "cell_type": "markdown",
   "metadata": {},
   "source": [
    "# filter"
   ]
  },
  {
   "cell_type": "code",
   "execution_count": 35,
   "metadata": {},
   "outputs": [
    {
     "output_type": "execute_result",
     "data": {
      "text/plain": "[0, 1, 2, 3, 4]"
     },
     "metadata": {},
     "execution_count": 35
    }
   ],
   "source": [
    "list(filter(lambda x: x < 5, range(10)))"
   ]
  },
  {
   "cell_type": "code",
   "execution_count": 36,
   "metadata": {},
   "outputs": [],
   "source": [
    "import pandas as pd\n",
    "reviews = pd.read_csv(\"./data/winemag-data-130k-v2.csv\", index_col=0)\n",
    "pd.set_option('max_rows', 5)"
   ]
  },
  {
   "cell_type": "code",
   "execution_count": 3,
   "metadata": {},
   "outputs": [
    {
     "output_type": "execute_result",
     "data": {
      "text/plain": "0        -1.447138\n1        -1.447138\n            ...   \n129969    1.552862\n129970    1.552862\nName: points, Length: 129971, dtype: float64"
     },
     "metadata": {},
     "execution_count": 3
    }
   ],
   "source": [
    "review_points_mean = reviews.points.mean()\n",
    "reviews.points.map(lambda p: p - review_points_mean)"
   ]
  },
  {
   "cell_type": "code",
   "execution_count": 37,
   "metadata": {},
   "outputs": [
    {
     "output_type": "execute_result",
     "data": {
      "text/plain": "0        -1.447138\n1        -1.447138\n            ...   \n129969    1.552862\n129970    1.552862\nName: points, Length: 129971, dtype: float64"
     },
     "metadata": {},
     "execution_count": 37
    }
   ],
   "source": [
    "review_points_mean = reviews.points.mean()\n",
    "def test_func(p):\n",
    "    return p - review_points_mean\n",
    "reviews.points.map(test_func)"
   ]
  },
  {
   "cell_type": "code",
   "execution_count": null,
   "metadata": {},
   "outputs": [],
   "source": [
    "def remean_points(row):\n",
    "    row.points = row.points - review_points_mean\n",
    "    return row\n",
    "\n",
    "reviews.apply(remean_points, axis='columns') # 전체 row를 순회"
   ]
  },
  {
   "cell_type": "code",
   "execution_count": null,
   "metadata": {},
   "outputs": [],
   "source": [
    "review_points_mean = reviews.points.mean()\n",
    "reviews.points - review_points_mean"
   ]
  }
 ],
 "metadata": {
  "language_info": {
   "codemirror_mode": {
    "name": "ipython",
    "version": 3
   },
   "file_extension": ".py",
   "mimetype": "text/x-python",
   "name": "python",
   "nbconvert_exporter": "python",
   "pygments_lexer": "ipython3",
   "version": "3.7.0-final"
  },
  "orig_nbformat": 2,
  "kernelspec": {
   "name": "python37064bittestbasicpyenv6767dfdd49484a73a1faa2f331db382c",
   "display_name": "Python 3.7.0 64-bit ('testbasic': pyenv)"
  }
 },
 "nbformat": 4,
 "nbformat_minor": 2
}